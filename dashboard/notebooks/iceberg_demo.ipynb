{
 "cells": [
  {
   "cell_type": "markdown",
   "metadata": {},
   "source": [
    "# Connecting to Iceberg Tables\n",
    "\n",
    "This notebook demonstrates how to connect to and interact with Iceberg tables using PyIceberg."
   ]
  },
  {
   "cell_type": "code",
   "execution_count": null,
   "metadata": {},
   "outputs": [],
   "source": [
    "# Import required libraries\n",
    "import os\n",
    "import pandas as pd\n",
    "import pyarrow as pa\n",
    "import pyarrow.compute as pc\n",
    "import pyarrow.parquet as pq\n",
    "import sys\n",
    "!{sys.executable} -m pip install pyiceberg\n",
    "from pyiceberg.catalog.rest import RestCatalog\n",
    "from pyiceberg.exceptions import NamespaceAlreadyExistsError"
   ]
  },
  {
   "cell_type": "markdown",
   "metadata": {},
   "source": [
    "## Connection Setup\n",
    "\n",
    "Connect to the Cloudflare R2 Data Catalog using credentials from environment variables."
   ]
  },
  {
   "cell_type": "code",
   "execution_count": null,
   "metadata": {},
   "outputs": [],
   "source": [
    "# Get connection details from environment variables\n",
    "warehouse = os.environ.get(\"WAREHOUSE\")\n",
    "token = os.environ.get(\"TOKEN\")\n",
    "catalog_uri = os.environ.get(\"CATALOG_URI\")\n",
    "\n",
    "# Show connection information (without revealing token)\n",
    "print(f\"Warehouse: {warehouse}\")\n",
    "print(f\"Catalog URI: {catalog_uri}\")\n",
    "print(f\"Token: {'Provided' if token else 'Not provided'}\")\n",
    "\n",
    "# Check if all required credentials are available\n",
    "if not all([warehouse, token, catalog_uri]):\n",
    "    missing = []\n",
    "    if not warehouse: missing.append(\"WAREHOUSE\")\n",
    "    if not token: missing.append(\"TOKEN\")\n",
    "    if not catalog_uri: missing.append(\"CATALOG_URI\")\n",
    "    print(f\"Warning: Missing required environment variables: {', '.join(missing)}\")"
   ]
  },
  {
   "cell_type": "code",
   "execution_count": null,
   "metadata": {},
   "outputs": [],
   "source": [
    "# Connect to R2 Data Catalog\n",
    "try:\n",
    "    if all([warehouse, token, catalog_uri]):\n",
    "        catalog = RestCatalog(\n",
    "            name=\"my_catalog\",\n",
    "            warehouse=warehouse,\n",
    "            uri=catalog_uri,\n",
    "            token=token,\n",
    "        )\n",
    "        print(\"Connected to R2 Data Catalog successfully!\")\n",
    "    else:\n",
    "        print(\"Cannot connect - missing required credentials\")\n",
    "        catalog = None\n",
    "except Exception as e:\n",
    "    print(f\"Connection failed: {str(e)}\")\n",
    "    catalog = None"
   ]
  },
  {
   "cell_type": "markdown",
   "metadata": {},
   "source": [
    "## Namespace Management\n",
    "\n",
    "Create a namespace if it doesn't exist."
   ]
  },
  {
   "cell_type": "code",
   "execution_count": null,
   "metadata": {},
   "outputs": [],
   "source": [
    "# Create default namespace if needed\n",
    "if catalog is not None:\n",
    "    try:\n",
    "        catalog.create_namespace(\"default\")\n",
    "        print(\"Created 'default' namespace\")\n",
    "    except NamespaceAlreadyExistsError:\n",
    "        print(\"'default' namespace already exists\")\n",
    "    except Exception as e:\n",
    "        print(f\"Error creating namespace: {str(e)}\")"
   ]
  },
  {
   "cell_type": "markdown",
   "metadata": {},
   "source": [
    "## List Available Tables\n",
    "\n",
    "List all tables in the default namespace."
   ]
  },
  {
   "cell_type": "code",
   "execution_count": null,
   "metadata": {},
   "outputs": [],
   "source": [
    "# List tables in the default namespace\n",
    "if catalog is not None:\n",
    "    try:\n",
    "        tables = catalog.list_tables(\"default\")\n",
    "        print(\"Available tables in 'default' namespace:\")\n",
    "        if tables:\n",
    "            for table in tables:\n",
    "                print(f\"- {table.name}\")\n",
    "        else:\n",
    "            print(\"No tables found\")\n",
    "    except Exception as e:\n",
    "        print(f\"Error listing tables: {str(e)}\")"
   ]
  },
  {
   "cell_type": "markdown",
   "metadata": {},
   "source": [
    "## Create Sample Data\n",
    "\n",
    "Create a sample PyArrow table for demonstration."
   ]
  },
  {
   "cell_type": "code",
   "execution_count": null,
   "metadata": {},
   "outputs": [],
   "source": [
    "# Create sample data\n",
    "sample_data = pa.table({\n",
    "    \"id\": [1, 2, 3, 4, 5],\n",
    "    \"name\": [\"Alice\", \"Bob\", \"Charlie\", \"Dave\", \"Eve\"],\n",
    "    \"score\": [80.0, 92.5, 88.0, 74.5, 95.0],\n",
    "    \"department\": [\"Engineering\", \"Marketing\", \"Sales\", \"Engineering\", \"Product\"]\n",
    "})\n",
    "\n",
    "# Display the sample data\n",
    "sample_data.to_pandas()"
   ]
  },
  {
   "cell_type": "markdown",
   "metadata": {},
   "source": [
    "## Create a New Table\n",
    "\n",
    "Create a new Iceberg table using the sample data schema."
   ]
  },
  {
   "cell_type": "code",
   "execution_count": null,
   "metadata": {},
   "outputs": [],
   "source": [
    "# Function to create a new table\n",
    "def create_table(table_name):\n",
    "    if catalog is None:\n",
    "        return \"Not connected to catalog\"\n",
    "        \n",
    "    test_table = (\"default\", table_name)\n",
    "    try:\n",
    "        if not catalog.table_exists(test_table):\n",
    "            table = catalog.create_table(\n",
    "                test_table,\n",
    "                schema=sample_data.schema,\n",
    "            )\n",
    "            return f\"Created table: {table_name}\"\n",
    "        else:\n",
    "            table = catalog.load_table(test_table)\n",
    "            return f\"Table already exists: {table_name}\"\n",
    "    except Exception as e:\n",
    "        return f\"Error creating/loading table: {str(e)}\"\n",
    "\n",
    "# Create a new table called 'employees'\n",
    "create_table(\"employees\")"
   ]
  },
  {
   "cell_type": "markdown",
   "metadata": {},
   "source": [
    "## Load a Table\n",
    "\n",
    "Load a specific table and display its contents."
   ]
  },
  {
   "cell_type": "code",
   "execution_count": null,
   "metadata": {},
   "outputs": [],
   "source": [
    "# Function to load and display table contents\n",
    "def load_table(table_name):\n",
    "    if catalog is None:\n",
    "        return \"Not connected to catalog\"\n",
    "        \n",
    "    try:\n",
    "        test_table = (\"default\", table_name)\n",
    "        if catalog.table_exists(test_table):\n",
    "            table = catalog.load_table(test_table)\n",
    "            return table\n",
    "        else:\n",
    "            return f\"Table does not exist: {table_name}\"\n",
    "    except Exception as e:\n",
    "        return f\"Error loading table: {str(e)}\"\n",
    "\n",
    "# Try to load the employees table\n",
    "employees_table = load_table(\"employees\")\n",
    "if isinstance(employees_table, str):\n",
    "    print(employees_table)\n",
    "else:\n",
    "    print(f\"Table loaded: {employees_table.identifier}\")"
   ]
  },
  {
   "cell_type": "markdown",
   "metadata": {},
   "source": [
    "## Append Data to a Table\n",
    "\n",
    "Append sample data to an existing table."
   ]
  },
  {
   "cell_type": "code",
   "execution_count": null,
   "metadata": {},
   "outputs": [],
   "source": [
    "# Function to append data to a table\n",
    "def append_to_table(table_name, data):\n",
    "    if catalog is None:\n",
    "        return \"Not connected to catalog\"\n",
    "        \n",
    "    try:\n",
    "        test_table = (\"default\", table_name)\n",
    "        if catalog.table_exists(test_table):\n",
    "            table = catalog.load_table(test_table)\n",
    "            table.append(data)\n",
    "            return f\"Data appended to table: {table_name}\"\n",
    "        else:\n",
    "            return f\"Table does not exist: {table_name}\"\n",
    "    except Exception as e:\n",
    "        return f\"Error appending data: {str(e)}\"\n",
    "\n",
    "# Append the sample data to the employees table\n",
    "append_to_table(\"employees\", sample_data)"
   ]
  },
  {
   "cell_type": "markdown",
   "metadata": {},
   "source": [
    "## Query Table Data\n",
    "\n",
    "Query and display data from a table."
   ]
  },
  {
   "cell_type": "code",
   "execution_count": null,
   "metadata": {},
   "outputs": [],
   "source": [
    "# Function to query and display table data\n",
    "def query_table(table_name):\n",
    "    if catalog is None:\n",
    "        return \"Not connected to catalog\"\n",
    "        \n",
    "    try:\n",
    "        test_table = (\"default\", table_name)\n",
    "        if catalog.table_exists(test_table):\n",
    "            table = catalog.load_table(test_table)\n",
    "            # Scan table data and convert to pandas\n",
    "            scanned = table.scan().to_arrow()\n",
    "            if len(scanned) > 0:\n",
    "                return scanned.to_pandas()\n",
    "            else:\n",
    "                return \"Table exists but has no data\"\n",
    "        else:\n",
    "            return f\"Table does not exist: {table_name}\"\n",
    "    except Exception as e:\n",
    "        return f\"Error querying table: {str(e)}\"\n",
    "\n",
    "# Query the employees table\n",
    "query_table(\"employees\")"
   ]
  },
  {
   "cell_type": "markdown",
   "metadata": {},
   "source": [
    "## Drop a Table\n",
    "\n",
    "Delete a table when it's no longer needed."
   ]
  },
  {
   "cell_type": "code",
   "execution_count": null,
   "metadata": {},
   "outputs": [],
   "source": [
    "# Function to drop a table\n",
    "def drop_table(table_name):\n",
    "    if catalog is None:\n",
    "        return \"Not connected to catalog\"\n",
    "        \n",
    "    try:\n",
    "        test_table = (\"default\", table_name)\n",
    "        if catalog.table_exists(test_table):\n",
    "            catalog.drop_table(test_table)\n",
    "            return f\"Table dropped: {table_name}\"\n",
    "        else:\n",
    "            return f\"Table does not exist: {table_name}\"\n",
    "    except Exception as e:\n",
    "        return f\"Error dropping table: {str(e)}\"\n",
    "\n",
    "# Uncomment to drop the employees table\n",
    "# drop_table(\"employees\")"
   ]
  }
 ],
 "metadata": {
  "kernelspec": {
   "display_name": "Python 3 (ipykernel)",
   "language": "python",
   "name": "python3"
  },
  "language_info": {
   "codemirror_mode": {
    "name": "ipython",
    "version": 3
   },
   "file_extension": ".py",
   "mimetype": "text/x-python",
   "name": "python",
   "nbconvert_exporter": "python",
   "pygments_lexer": "ipython3",
   "version": "3.11.6"
  }
 },
 "nbformat": 4,
 "nbformat_minor": 4
}
